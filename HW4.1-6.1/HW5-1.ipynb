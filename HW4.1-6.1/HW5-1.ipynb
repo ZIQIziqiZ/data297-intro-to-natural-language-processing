{
 "cells": [
  {
   "cell_type": "markdown",
   "metadata": {},
   "source": [
    "# HW5.1 text classification with logistic regression. \n",
    "\n",
    "We will use the same dataset Triage as last time. Here is what's in this assignment: \n",
    "\n",
    "1. we will explore several options of how to convert text to vectors to be fed into a logistic regression classifier using sklearn. \n",
    "2. we will implement and train a logistic regression classifier using Python (no sklearn!).\n",
    "3. we will compare the text classification result with those you got from the NB last week. \n",
    "\n",
    "## PART I: text input representation: converting text to vectors\n",
    "\n",
    "There are many ways to convert text to vectors. Let's try two ways in this assignment. \n",
    "\n",
    "1. Count vectors \n",
    "\n",
    "Read the documentation for sklearn ```CountVectorizer``` here: https://scikit-learn.org/stable/modules/generated/sklearn.feature_extraction.text.CountVectorizer.html#sklearn.feature_extraction.text.CountVectorizer.fit_transform \n",
    "\n",
    "2. Normalized counts - tfidf\n",
    "\n",
    "Read the documentation for sklearn ```tfidfVectorizer``` here: https://scikit-learn.org/stable/modules/generated/sklearn.feature_extraction.text.TfidfVectorizer.html#sklearn.feature_extraction.text.TfidfVectorizer\n",
    "\n",
    "Make sure you understood the code examples for those two vectorizers. \n",
    "\n"
   ]
  },
  {
   "cell_type": "markdown",
   "metadata": {},
   "source": [
    "### logistic regression with unigram count vectors\n"
   ]
  },
  {
   "cell_type": "code",
   "execution_count": 1,
   "metadata": {},
   "outputs": [
    {
     "name": "stdout",
     "output_type": "stream",
     "text": [
      "['about' 'and' 'document' 'documents' 'first' 'how' 'is' 'one' 'second'\n",
      " 'the' 'these' 'third' 'this']\n",
      "[[0 0 1 0 1 0 1 0 0 1 0 0 1]\n",
      " [0 0 2 0 0 0 1 0 1 1 0 0 1]\n",
      " [0 1 0 0 0 0 1 1 0 1 0 1 1]\n",
      " [0 0 1 0 1 0 1 0 0 1 0 0 1]\n",
      " [1 0 0 1 0 1 0 0 0 0 1 0 0]]\n"
     ]
    }
   ],
   "source": [
    "# This example shows how to convert text to Count vectors. When you use get_feature_names_out() function,\n",
    "# you can see which position of the vector correspond to which word in the vocabulary. \n",
    "# but usually we don't need to pay too much attention to that. \n",
    "\n",
    "from sklearn.feature_extraction.text import CountVectorizer\n",
    "\n",
    "corpus = ['this is the first document',\n",
    "          'this document is the second document',\n",
    "          'and this is the third one',\n",
    "          'is this the first document',\n",
    "          'how about these documents']\n",
    "\n",
    "vectorizer = CountVectorizer()\n",
    "X = vectorizer.fit_transform(corpus)\n",
    "print(vectorizer.get_feature_names_out())\n",
    "\n",
    "print(X.toarray())"
   ]
  },
  {
   "cell_type": "markdown",
   "metadata": {},
   "source": [
    "#### you turn: read the Triage dataset using the same loader from last time, and convert your text documents into a count vector. "
   ]
  },
  {
   "cell_type": "code",
   "execution_count": 2,
   "metadata": {},
   "outputs": [],
   "source": [
    "# similar to the example above, your document \n",
    "from util import load_data, Dataset, Example\n",
    "import numpy as np\n",
    "dataset = load_data(\"./data/triage\")\n",
    "\n",
    "\n",
    "def get_data(split:list[Example])->(list[str],list[int]):\n",
    "    \"\"\"\n",
    "    massage the data into a format consistent with the input type required by CountVectorizer or tfidfVectorizer. \n",
    "\n",
    "    args \n",
    "        split: pass in the split, which should be either dataset.train or dataset.dev\n",
    "\n",
    "    returns: \n",
    "        text: list of sentences\n",
    "        labels: list of labels  \n",
    "\n",
    "    \"\"\"\n",
    "    # YOUR CODE HERE\n",
    "    # pass \n",
    "    text = list()\n",
    "    label = list()\n",
    "    \n",
    "    for doc in split:\n",
    "        text.append(doc.words)\n",
    "        label.append(doc.label)\n",
    "        \n",
    "    text = [[' '.join(i)][0] for i in text] # each element is a string\n",
    "    \n",
    "    return text, label"
   ]
  },
  {
   "cell_type": "markdown",
   "metadata": {},
   "source": [
    "#### load the data using get_data() and then convert them into count vector\n",
    "```\n",
    "train_text, train_label = get_data(dataset.train)\n",
    "dev_text, dev_label = get_data(dataset.dev)\n",
    "```\n",
    "\n",
    "#### IMPORTANT note: \n",
    "You need to transform both train and dev data into a vector before feeding them into a classifier. But ```fit_transform()``` is a composition of two functions: fit and transform. \n",
    "You should use ```fit_transform()``` to fit the vector to your train text and transform it to the vector,\n",
    "but when you deal with the dev text, you don't need to fit the Vectorizer any more, you just need to use the \n",
    "Vectorizer you fit on the train data, and simply ```transform()``` it. Don't use ```fit_transform()``` on both data splits. \n",
    "To confirm that you are using the same Vectorizer for both train data and test data, you should get the feature names out\n",
    "and see that they have the same length. \n",
    "e.g., : \n",
    "\n",
    "```\n",
    "names=vectorizer.get_feature_names_out()\n",
    "print(len(names))\n",
    "```\n",
    "\n",
    "Because the train and dev split have different vocabulary sizes, if you ```fit_transform``` on each of them you will end up with vectors of different lengths. Since your classifier is trained with the input vector length from train, it should not take input with a different vector length on the dev data. "
   ]
  },
  {
   "cell_type": "code",
   "execution_count": 3,
   "metadata": {},
   "outputs": [
    {
     "name": "stdout",
     "output_type": "stream",
     "text": [
      "31211\n",
      "(21046, 31211)\n",
      "(2573, 31211)\n"
     ]
    }
   ],
   "source": [
    "# YOUR CODE HERE to convert both train and dev data into Count vectors\n",
    "\n",
    "train_text, train_label = get_data(dataset.train)\n",
    "dev_text, dev_label = get_data(dataset.dev)\n",
    "\n",
    "vectorizer = CountVectorizer()\n",
    "vectorized_train_text = vectorizer.fit_transform(train_text)\n",
    "vectorized_dev_text = vectorizer.transform(dev_text)\n",
    "\n",
    "names = vectorizer.get_feature_names_out()\n",
    "print(len(names)) # 31211\n",
    "print(vectorized_train_text.shape)\n",
    "print(vectorized_dev_text.shape)"
   ]
  },
  {
   "cell_type": "markdown",
   "metadata": {},
   "source": [
    "## logistic regression with bigram count vectors\n",
    "\n",
    "When using the CountVectorizer, you can also use bigram or Ngram counts. If you read the documentation for  ```CountVectorizer``` above, you will find the argument called ```ngram_range```. Try to use both unigrams and bigrams for this task. "
   ]
  },
  {
   "cell_type": "code",
   "execution_count": 4,
   "metadata": {},
   "outputs": [
    {
     "name": "stdout",
     "output_type": "stream",
     "text": [
      "243689\n",
      "(21046, 243689)\n",
      "(2573, 243689)\n"
     ]
    }
   ],
   "source": [
    "# Code to apply CountVectorizer using unigrams and bigrams\n",
    "# YOUR CODE HERE\n",
    "\n",
    "vectorizer = CountVectorizer(ngram_range=(1,2)) # min_n = 1, max_n = 2\n",
    "vectorized_train_text = vectorizer.fit_transform(train_text)\n",
    "vectorized_dev_text = vectorizer.transform(dev_text)\n",
    "\n",
    "names = vectorizer.get_feature_names_out()\n",
    "print(len(names)) # 243689\n",
    "print(vectorized_train_text.shape)\n",
    "print(vectorized_dev_text.shape)"
   ]
  },
  {
   "cell_type": "markdown",
   "metadata": {},
   "source": [
    "## logistic regression with tfidf vectors"
   ]
  },
  {
   "cell_type": "code",
   "execution_count": 5,
   "metadata": {},
   "outputs": [],
   "source": [
    "# Refer to the tfidfVectorizer linked above to transform the text into tfidf vectors\n",
    "# YOUR CODE HERE\n",
    "\n",
    "from sklearn.feature_extraction.text import TfidfVectorizer\n",
    "\n",
    "vectorizer = TfidfVectorizer()\n",
    "vectorized_train_text = vectorizer.fit_transform(train_text)\n",
    "vectorized_dev_text = vectorizer.transform(dev_text)\n",
    "\n",
    "# After you have transformed your text (train and dev) into tfidf vectors, try to get the names of \n",
    "# the vector elements at each position and print out the length of the vector. Inspect the names of\n",
    "# the vectors from different portions of the vector. What do you see in the vocabulary?"
   ]
  },
  {
   "cell_type": "code",
   "execution_count": 6,
   "metadata": {},
   "outputs": [
    {
     "name": "stdout",
     "output_type": "stream",
     "text": [
      "31211\n"
     ]
    }
   ],
   "source": [
    "names = vectorizer.get_feature_names_out()\n",
    "print(len(names))"
   ]
  },
  {
   "cell_type": "code",
   "execution_count": 7,
   "metadata": {},
   "outputs": [
    {
     "data": {
      "text/plain": [
       "array(['00', '000', '0000', '000ha', '000l', '000lt', '000m2', '000rmb',\n",
       "       '004', '00h58', '01', '010', '017', '018', '019', '01st', '02',\n",
       "       '020', '027', '027kiisfm'], dtype=object)"
      ]
     },
     "execution_count": 7,
     "metadata": {},
     "output_type": "execute_result"
    }
   ],
   "source": [
    "# first portion\n",
    "names[:20]"
   ]
  },
  {
   "cell_type": "code",
   "execution_count": 8,
   "metadata": {},
   "outputs": [
    {
     "data": {
      "text/plain": [
       "array(['khatami', 'khatir', 'khatlon', 'khattak', 'khatun', 'khaw',\n",
       "       'khdara', 'kheda', 'khel', 'khiar', 'khichudi', 'khilgaon', 'khim',\n",
       "       'khima', 'khmer', 'khojai', 'khorak', 'khorezm', 'khorizem',\n",
       "       'khorog'], dtype=object)"
      ]
     },
     "execution_count": 8,
     "metadata": {},
     "output_type": "execute_result"
    }
   ],
   "source": [
    "# middle portion\n",
    "names[len(names)//2:len(names)//2+20]"
   ]
  },
  {
   "cell_type": "code",
   "execution_count": 9,
   "metadata": {},
   "outputs": [
    {
     "data": {
      "text/plain": [
       "array(['zwkmjkkz', '枚tanos', '眉an', '眉aram', '眉ei', '眉hurricane', '眉lol',\n",
       "       '眉the', '眉this', '碌es', '脿枚', '脿枚else', '脿枚r', '脿毛', '脿毛ng', '脿没',\n",
       "       '脿眉', '茅tant', '茅tat', '茅t茅'], dtype=object)"
      ]
     },
     "execution_count": 9,
     "metadata": {},
     "output_type": "execute_result"
    }
   ],
   "source": [
    "# last portion\n",
    "names[-20:]"
   ]
  },
  {
   "cell_type": "markdown",
   "metadata": {},
   "source": [
    "By inspecting different portions of the names vector, it appears that names are all unique terms extracted from the original corpus, and they are sorted in alphabetical order, with non-English words at the end."
   ]
  },
  {
   "cell_type": "markdown",
   "metadata": {},
   "source": [
    "# PART II: Logistic regression from scratch\n",
    "\n",
    "We have seen in class there are four components in a standard linear classifier: features (input), forward pass (function to compute p(Y|X)), a loss function (to measure the errors the system makes), and the optimizer/iterative learning process to adjust the weights to minimize the errors. We've already taken care of the input features above. Let's now implement the rest of the components. Let's use the tfidf vectors for this implemetation.\n",
    "\n",
    "Recipe: \n",
    "```\n",
    "   1. Initialize the parameters\n",
    "Repeat {\n",
    "   2. Make a prediction y_hat\n",
    "   3. Calculate loss function\n",
    "   4. Get gradient for loss function\n",
    "   5. Update parameters W, b\n",
    " }\n",
    "```"
   ]
  },
  {
   "cell_type": "code",
   "execution_count": 10,
   "metadata": {},
   "outputs": [],
   "source": [
    "import numpy as np\n",
    "import matplotlib.pyplot as plt\n",
    "\n",
    "# create train and test sets. train_label and dev_label was created above.\n",
    "# the Xtrain and Xtest should be the result variable of passing the train_text and dev_text through the vectorizer. \n",
    "\n",
    "vectorizer = TfidfVectorizer()\n",
    "vectorized_train_text = vectorizer.fit_transform(train_text)\n",
    "vectorized_dev_text = vectorizer.transform(dev_text)\n",
    "\n",
    "Xtrain, Xtest = vectorized_train_text, vectorized_dev_text\n",
    "Ytrain = np.array(train_label)\n",
    "Ytest = np.array(dev_label)\n",
    "\n",
    "# randomly initialize weights\n",
    "D = Xtrain.shape[1]\n",
    "W = np.random.randn(D)\n",
    "b = 0 # bias term\n",
    "\n",
    "# make predictions\n",
    "def sigmoid(z):\n",
    "    \"\"\"\n",
    "    sigmoid function\n",
    "    \n",
    "    args\n",
    "        z: the result of linear computation, z = X.dot(W) + b\n",
    "    \"\"\"\n",
    "    # YOUR CODE HERE \n",
    "    return 1 / (1 + np.exp(-z))\n",
    "\n",
    "def forward(X, W, b):\n",
    "    \"\"\"\n",
    "    forward pass, return the result of passing X.dot(W)+b through sigmoid function\n",
    "\n",
    "    args\n",
    "        X: input features\n",
    "        W: weights\n",
    "        b: biases\n",
    "    \"\"\"\n",
    "    # YOUR CODE HERE \n",
    "    return sigmoid(X.dot(W) + b) # can not use np.dot(X, W) - unable to allocate\n",
    "\n",
    "# calculate the accuracy\n",
    "def classification_rate(Y, Y_HAT):\n",
    "    return np.mean(Y == Y_HAT)\n",
    "\n",
    "# cross entropy\n",
    "def cross_entropy(T, pY):\n",
    "    return -np.mean(T*np.log(pY) + (1 - T)*np.log(1 - pY))\n",
    "\n",
    "# train loop\n",
    "\n",
    "# use these lists to store the loss values during the training, so you can visualize them later in a curve\n",
    "train_loss = [] \n",
    "test_loss = []\n",
    "\n",
    "learning_rate = 0.001\n",
    "num_iter = 10000 # iterate this many times to update the weights\n",
    "for i in range(num_iter):\n",
    "    # YOUR CODE HERE\n",
    "    # implement forward pass, compute loss with cross entropy, \n",
    "    # and finally update your weights and biases (W and b)\n",
    "    # by the rules:     \n",
    "    # w = w - Learning_Rate*dw\n",
    "    # b = b - Learning_Rate*db\n",
    "    # where dw and db can be computed with something like this: (refer to SLP3 5.6.3, working through an example)\n",
    "    # dw=X.T.dot(y_pred-y)\n",
    "    # db=np.sum(y_pred-y)\n",
    "    # you should capture your output in p_Ytrain and p_Ytest\n",
    "    \n",
    "    # forward pass\n",
    "    p_Ytrain = forward(Xtrain, W, b)\n",
    "    p_Ytest = forward(Xtest, W, b)\n",
    "    \n",
    "    # loss\n",
    "    train_loss.append(cross_entropy(Ytrain, p_Ytrain))\n",
    "    test_loss.append(cross_entropy(Ytest, p_Ytest))\n",
    "    \n",
    "    # gradients\n",
    "    dW = Xtrain.T.dot(p_Ytrain - Ytrain)\n",
    "    db = np.sum(p_Ytrain - Ytrain)\n",
    "    \n",
    "    # update\n",
    "    W -= learning_rate * dW\n",
    "    b -= learning_rate * db"
   ]
  },
  {
   "cell_type": "code",
   "execution_count": 11,
   "metadata": {},
   "outputs": [
    {
     "name": "stdout",
     "output_type": "stream",
     "text": [
      "Final train classification_rate: 0.9338116506699611\n",
      "Final test classification_rate: 0.759813447337738\n"
     ]
    },
    {
     "data": {
      "image/png": "[encoded data removed]",
      "text/plain": [
       "<Figure size 640x480 with 1 Axes>"
      ]
     },
     "metadata": {},
     "output_type": "display_data"
    }
   ],
   "source": [
    "# evaluate your model after it is trained. What is the accuracy? \n",
    "print(\"Final train classification_rate:\", classification_rate(Ytrain, np.round(p_Ytrain)))\n",
    "print(\"Final test classification_rate:\", classification_rate(Ytest, np.round(p_Ytest)))\n",
    "\n",
    "# finally plot the trajectory of the training curve \n",
    "legend1, = plt.plot(train_loss, label='train loss')\n",
    "legend2, = plt.plot(test_loss, label='test loss')\n",
    "plt.legend([\"train\", \"test\"])\n",
    "plt.show()"
   ]
  },
  {
   "cell_type": "markdown",
   "metadata": {},
   "source": [
    "# PART III: compare different vectors\n",
    "\n",
    "Now substitute the tfidf vectors with the unigram, and unigram+bigram count vectors. Train the model again. How is the accuracy this time?"
   ]
  },
  {
   "cell_type": "code",
   "execution_count": 12,
   "metadata": {},
   "outputs": [],
   "source": [
    "from sklearn.preprocessing import normalize\n",
    "# address the \"RuntimeWarning: overflow encountered in exp\" issue\n",
    "# alternative: from scipy.special import expit, expit(z)\n",
    "# address the \"RuntimeWarning: divide by zero encountered in log\" issue\n",
    "# alternative: in cross entropy function, pY = np.clip(pY, 1e-16, 1 - 1e-16)"
   ]
  },
  {
   "cell_type": "markdown",
   "metadata": {},
   "source": [
    "Unigram count vectors:"
   ]
  },
  {
   "cell_type": "code",
   "execution_count": 13,
   "metadata": {},
   "outputs": [
    {
     "name": "stdout",
     "output_type": "stream",
     "text": [
      "Final train classification_rate: 0.800864772403307\n",
      "Final test classification_rate: 0.7423241352506802\n"
     ]
    },
    {
     "data": {
      "image/png": "[encoded data removed]",
      "text/plain": [
       "<Figure size 640x480 with 1 Axes>"
      ]
     },
     "metadata": {},
     "output_type": "display_data"
    }
   ],
   "source": [
    "# YOUR CODE HERE\n",
    "\n",
    "vectorizer = CountVectorizer() # Unigram count vectors\n",
    "vectorized_train_text = vectorizer.fit_transform(train_text)\n",
    "vectorized_dev_text = vectorizer.transform(dev_text)\n",
    "\n",
    "Xtrain, Xtest = vectorized_train_text, vectorized_dev_text\n",
    "Xtrain = normalize(Xtrain)\n",
    "Xtest = normalize(Xtest)\n",
    "\n",
    "# randomly initialize weights\n",
    "D = Xtrain.shape[1]\n",
    "W = np.random.randn(D)\n",
    "b = 0 # bias term\n",
    "\n",
    "# train loop\n",
    "train_loss = [] \n",
    "test_loss = []\n",
    "\n",
    "learning_rate = 0.001\n",
    "num_iter = 10000 # iterate this many times to update the weights\n",
    "for i in range(num_iter):\n",
    "    # forward pass\n",
    "    p_Ytrain = forward(Xtrain, W, b)\n",
    "    p_Ytest = forward(Xtest, W, b)\n",
    "    \n",
    "    # loss\n",
    "    train_loss.append(cross_entropy(Ytrain, p_Ytrain))\n",
    "    test_loss.append(cross_entropy(Ytest, p_Ytest))\n",
    "    \n",
    "    # gradients\n",
    "    dW = Xtrain.T.dot(p_Ytrain - Ytrain)\n",
    "    db = np.sum(p_Ytrain - Ytrain)\n",
    "    \n",
    "    # update\n",
    "    W -= learning_rate * dW\n",
    "    b -= learning_rate * db\n",
    "    \n",
    "print(\"Final train classification_rate:\", classification_rate(Ytrain, np.round(p_Ytrain)))\n",
    "print(\"Final test classification_rate:\", classification_rate(Ytest, np.round(p_Ytest)))\n",
    "\n",
    "legend1, = plt.plot(train_loss, label='train loss')\n",
    "legend2, = plt.plot(test_loss, label='test loss')\n",
    "plt.legend([\"train\", \"test\"])\n",
    "plt.show()"
   ]
  },
  {
   "cell_type": "markdown",
   "metadata": {},
   "source": [
    "Unigram+bigram count vectors:"
   ]
  },
  {
   "cell_type": "code",
   "execution_count": 14,
   "metadata": {},
   "outputs": [
    {
     "name": "stdout",
     "output_type": "stream",
     "text": [
      "Final train classification_rate: 0.9778580252779625\n",
      "Final test classification_rate: 0.7594247959580257\n"
     ]
    },
    {
     "data": {
      "image/png": "[encoded data removed]",
      "text/plain": [
       "<Figure size 640x480 with 1 Axes>"
      ]
     },
     "metadata": {},
     "output_type": "display_data"
    }
   ],
   "source": [
    "# YOUR CODE HERE\n",
    "\n",
    "vectorizer = CountVectorizer(ngram_range=(1,2)) # Unigram+bigram count vectors\n",
    "vectorized_train_text = vectorizer.fit_transform(train_text)\n",
    "vectorized_dev_text = vectorizer.transform(dev_text)\n",
    "\n",
    "Xtrain, Xtest = vectorized_train_text, vectorized_dev_text\n",
    "Xtrain = normalize(Xtrain)\n",
    "Xtest = normalize(Xtest)\n",
    "\n",
    "# randomly initialize weights\n",
    "D = Xtrain.shape[1]\n",
    "W = np.random.randn(D)\n",
    "b = 0 # bias term\n",
    "\n",
    "# train loop\n",
    "train_loss = [] \n",
    "test_loss = []\n",
    "\n",
    "learning_rate = 0.001\n",
    "num_iter = 10000 # iterate this many times to update the weights\n",
    "for i in range(num_iter):\n",
    "    # forward pass\n",
    "    p_Ytrain = forward(Xtrain, W, b)\n",
    "    p_Ytest = forward(Xtest, W, b)\n",
    "    \n",
    "    # loss\n",
    "    train_loss.append(cross_entropy(Ytrain, p_Ytrain))\n",
    "    test_loss.append(cross_entropy(Ytest, p_Ytest))\n",
    "    \n",
    "    # gradients\n",
    "    dW = Xtrain.T.dot(p_Ytrain - Ytrain)\n",
    "    db = np.sum(p_Ytrain - Ytrain)\n",
    "    \n",
    "    # update\n",
    "    W -= learning_rate * dW\n",
    "    b -= learning_rate * db\n",
    "    \n",
    "print(\"Final train classification_rate:\", classification_rate(Ytrain, np.round(p_Ytrain)))\n",
    "print(\"Final test classification_rate:\", classification_rate(Ytest, np.round(p_Ytest)))\n",
    "\n",
    "legend1, = plt.plot(train_loss, label='train loss')\n",
    "legend2, = plt.plot(test_loss, label='test loss')\n",
    "plt.legend([\"train\", \"test\"])\n",
    "plt.show()"
   ]
  },
  {
   "cell_type": "markdown",
   "metadata": {},
   "source": [
    "Compared to the model with tfidf vectors, the **model with unigram vectors** has slightly lower dev accuracy and much lower training accuracy while the **model with unigram+bigram vectors** has similar dev accuracy and even higher training accuracy. The **model with tfidf vectors** can capture the importance of terms as it considers both the term frequency and the inverse document frequency, and the **model with unigram+bigram count vectors** incorporates more information for including bigrams, so these two models are relatively more complicated than the **model with unigram vectors**, which is why these two models have extremely high training accuracies (over 90%), showing signs of overfitting. In addition, the dev accuracies of these two models are only about 2% higher than the dev accuracy of the model with unigram vectors, suggesting the **model with unigram vectors** is the more generalized model."
   ]
  },
  {
   "cell_type": "markdown",
   "metadata": {},
   "source": [
    "# wrapping up\n",
    "\n",
    "You should see your training curve on your train data and dev data above. What do you observe? \n",
    "\n",
    "How does your final train and dev accuracy compare to using NaiveBayes model from last week?"
   ]
  },
  {
   "cell_type": "markdown",
   "metadata": {},
   "source": [
    "The loss curves on train data and dev data demonstrate similar trajectories in these graphs in general. The losses decrease rapidly in the initial iterations as the model is learning to minimize the loss function, and then the losses become steady as training progresses. However, the decrease in training loss is more apparent compared to the loss obtained from dev data, this is because the model is learning more from the training data as the number of iterations increases. The test loss remains relatively stable, but the difference between training loss and test loss is increasing as training progresses, showing signs of overfitting (10,000 iterations may be higher than what is necessary). The difference between the three graphs is the rate of decrease. For the unigram+bigram count model, it takes more iterations for the loss to appear to stay at a constant value, which is expected because the model has more features, thus taking more iterations to train. "
   ]
  },
  {
   "cell_type": "markdown",
   "metadata": {},
   "source": [
    "All three models implemented this week have relatively higher dev accuracies than the **NaiveBayes model**. Both the **model with tfidf vectors** and the **model with unigram+bigram vectors** have much higher training accuracies than the NaiveBayes model, while the **model with unigram vectors** has a lower training accuracy. As a result, the **model with unigram vectors** is preferred as it is more generalized (training accuracy and dev accuracy are reasonable and more similar). The other two models are more complicated than NaiveBayes, they can learn much more from the training set and fit the training set very well, but maybe hyperparameter tuning for vectorizers and logistic regression models is needed to avoid overfitting and see a more significant increase in the accuracy on dev data. "
   ]
  },
  {
   "cell_type": "code",
   "execution_count": null,
   "metadata": {},
   "outputs": [],
   "source": []
  }
 ],
 "metadata": {
  "kernelspec": {
   "display_name": "Python 3 (ipykernel)",
   "language": "python",
   "name": "python3"
  },
  "language_info": {
   "codemirror_mode": {
    "name": "ipython",
    "version": 3
   },
   "file_extension": ".py",
   "mimetype": "text/x-python",
   "name": "python",
   "nbconvert_exporter": "python",
   "pygments_lexer": "ipython3",
   "version": "3.10.12"
  }
 },
 "nbformat": 4,
 "nbformat_minor": 2
}
